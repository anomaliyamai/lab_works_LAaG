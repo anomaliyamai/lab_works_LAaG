{
 "cells": [
  {
   "cell_type": "markdown",
   "metadata": {
    "id": "VJEZ8P61An7I"
   },
   "source": [
    "# Лабораторная работа 2\n",
    "\n",
    "## Линейная регрессия"
   ]
  },
  {
   "cell_type": "markdown",
   "metadata": {
    "id": "5kOKUEqSSU5j"
   },
   "source": [
    "## Часть 1: Приближаем функции\n"
   ]
  },
  {
   "cell_type": "markdown",
   "metadata": {
    "id": "y3OmO16EAn7M"
   },
   "source": [
    "### Метод наименьших квадратов: постановка задачи\n",
    "\n",
    "Рассмотрим систему уравнений $Xa = y$, в которой $a$ — столбец неизвестных. Её можно переписать в векторном виде\n",
    "$$x_1 a_1 + x_2 a_2 + \\ldots + x_k a_k = y,$$\n",
    "где $x_1,\\ldots,x_k$ — столбцы матрицы $X$. Таким образом, решить исходную систему означает найти линейную комбинацию векторов $x_1,\\ldots,x_k$, равную правой части. Но что делать, если такой линейной комбинации не существует? Геометрически это означает, что вектор $y$ не лежит в подпространстве $U = \\langle x_1,\\ldots, x_k\\rangle$. В этом случае мы можем найти *псевдорешение*: вектор коэффициентов $\\hat{a}$, для которого линейная комбинация $x_1 \\hat{a}_1 + x_2 \\hat{a}_2 + \\ldots + x_k \\hat{a}_k$ хоть и не равна в точности $y$, но является наилучшим приближением — то есть ближайшей к $y$ точкой $\\hat{y}$ подпространства $U$ (иными словами, ортогональной проекцией $y$ на это подпростанство). Итак, цель наших исканий можно сформулировать двумя эквивалентными способами:\n",
    "\n",
    "1. Найти вектор $\\hat{a}$, для которого длина разности $|X\\hat{a} - y|$ минимальна;\n",
    "2. Найти ортогональную проекцию $\\hat{y}$ вектора $y$ на подпространство $U$ и представить её в виде $X\\hat{a}$.\n",
    "\n",
    "Далее мы будем предполагать, что векторы $x_1,\\ldots,x_k$ линейно независимы (если нет, то сначала имеет смысл выделить максимальную линейно независимую подсистему).\n",
    "\n",
    "На лекциях было показано, что проекция вектора $y$ на подпространство $U = \\langle x_1,\\ldots, x_k\\rangle$, записывается в виде\n",
    "$$\\hat{y} = X\\left(X^TX\\right)^{-1}X^Ty,$$\n",
    "и, соответственно, искомый вектор $\\hat{a}$ равен\n",
    "$$\\hat{a} = \\left(X^TX\\right)^{-1}X^Ty.$$"
   ]
  },
  {
   "cell_type": "markdown",
   "metadata": {
    "id": "Wbh4XI_BAn7P"
   },
   "source": [
    "### Задача линейной регрессии\n",
    "\n",
    "Начнём с примера. Допустим, вы хотите найти зависимость среднего балла S студента ФКН от его роста H, веса W, длины волос L и N — количества часов, которые он ежедневно посвящает учёбе. Представьте, что мы измерили все эти параметры для $n$ студентов и получили наборы значений: $S_1,\\ldots, S_n$, $H_1,\\ldots, H_n$ и так далее.\n",
    "\n",
    "Теперь мы хотим построить **модель**, т.е. определить алгоритм, который будет принимать на вход некоторый набор параметров (в данном случае это измеренные нами $H, W, L$ и $N$), и выдавать значение некоторой **целевой переменной** (в данном примере это $S$). Тут можно подбирать много разных умных моделей, но начать имеет смысл с самой простой, линейной:\n",
    "\n",
    "$$S = a_0 + a_1H + a_2W + a_3L + a_4N.$$\n",
    "\n",
    "Конечно, строгой линейной зависимости нет (иначе можно было бы радостно упразднить экзамены), но мы можем попробовать подобрать коэффициенты $a_0, a_1, a_2, a_3, a_4$, удовлетворяющие вот такому требованию:\n",
    "$$\\sum_{i=1}^n\\left(S_i - ( a_0 + a_1H_i + a_2W_i + a_3L_i + a_4N_i)\\right)^2 \\longrightarrow \\min$$\n",
    "Т.е. мы хотим, чтобы квадрат отклонения правой части от левой был поменьше для всех $n$ студентов. Введём несколько обозначений:\n",
    "$$X =\n",
    "\\begin{pmatrix}\n",
    "1 & H_1 & W_1 & L_1 & N_1\\\\\n",
    "1 & H_2 & W_2 & L_2 & N_2\\\\\n",
    "\\vdots & \\vdots & \\vdots & \\vdots & \\vdots \\\\\n",
    "1 & H_n & W_n & L_n & N_n\n",
    "\\end{pmatrix}, \\qquad a=\n",
    "\\begin{pmatrix}\n",
    "a_0\\\\ a_1\\\\ \\vdots\\\\ a_4\n",
    "\\end{pmatrix},\\qquad y=\n",
    "\\begin{pmatrix}\n",
    "S_1\\\\ S_2\\\\ \\vdots \\\\ S_n\n",
    "\\end{pmatrix}.$$\n",
    "\n",
    "Теперь наше требование выше можно переписать в таком виде:\n",
    "$$\n",
    "\\sum_{i=1}^n\\left(S_i - ( a_0 + a_1H_i + a_2W_i + a_3L_i + a_4N_i)\\right)^2 = |y - Xa|^2 \\longrightarrow \\min\n",
    "$$\n",
    "\n",
    "И теперь видно, что мы получили задачу на метод наименьших квадратов!\n",
    "Решая эту задачу с помощью уже известных формул, получаем оценки коэффициентов $\\hat{a}_i$ ($i = 1\\ldots,5$)."
   ]
  },
  {
   "cell_type": "markdown",
   "metadata": {
    "id": "v76yazhJAn7R"
   },
   "source": [
    "Теперь проговорим общую постановку задачи линейной регрессии. У нас есть $k$ переменных $x_1,\\ldots,x_k$ (\"регрессоров\"), через которые мы хотим выразить \"объясняемую переменную\" $y$:\n",
    "$$y = a_1x_1 + a_2x_2 + \\ldots + a_kx_k$$\n",
    "Значения всех переменных мы измерили $n$ раз (у $n$ различных объектов,  в $n$ различных моментов времени - это зависит от задачи). Подставим эти данные в предыдущее равенство:\n",
    "$$\\begin{pmatrix}\n",
    "y_1\\\\ y_2 \\\\ \\vdots \\\\ y_n\n",
    "\\end{pmatrix} = \n",
    "a_1\\begin{pmatrix}\n",
    "x_{11} \\\\ x_{21} \\\\ \\vdots \\\\ x_{n1} \\end{pmatrix} + a_2\\begin{pmatrix}\n",
    "x_{12} \\\\ x_{22} \\\\ \\vdots \\\\ x_{n2} \\end{pmatrix} + \\ldots + a_k\\begin{pmatrix}\n",
    "x_{1k} \\\\ x_{2k} \\\\ \\vdots \\\\ x_{nk} \\end{pmatrix}$$\n",
    "(здесь $x_{ij}$ - это значение $j$-го признака на $i$-м измерении). Это удобно переписать в матричном виде:\n",
    "$$\\begin{pmatrix}\n",
    "x_{11} & x_{12} & \\ldots & x_{1k}\\\\\n",
    "x_{21} & x_{22} & \\ldots & x_{2k}\\\\\n",
    "\\dots & \\dots & \\dots & \\dots\\\\\n",
    "x_{n1} & x_{n2} & \\ldots & x_{nk}\n",
    "\\end{pmatrix} \\cdot\n",
    "\\begin{pmatrix}\n",
    "a_1 \\\\ a_2 \\\\ \\vdots \\\\ a_k\n",
    "\\end{pmatrix} = \n",
    "\\begin{pmatrix}\n",
    "y_1 \\\\ y_2 \\\\ \\vdots \\\\ y_n\n",
    "\\end{pmatrix}$$\n",
    "или коротко $Xa = y$. Поскольку на практике эта система уравнений зачастую не имеет решения (ибо зависимости в жизни редко бывают действительно линейными), методом наименьших квадратов ищется псевдорешение."
   ]
  },
  {
   "cell_type": "markdown",
   "metadata": {
    "id": "kDX5t_BxAn7T"
   },
   "source": [
    "### Оценка качества. Обучение и тест \n",
    "\n",
    "После того, как вы построили регрессию и получили какую-то зависимость объясняемой переменной от регрессоров, настаёт время оценить качество регрессии. Есть много разных функционалов качества; мы пока будем говорить только о самом простом и очевидном из них: о среднеквадратичной ошибке (mean square error). Она равна\n",
    "$$\\frac1{n}|X\\hat{a} - y|^2 = \\frac1{n}\\sum_{i=1}^n\\left(\\hat{a}_1x_{i1} + \\hat{a}_2x_{i2} + \\ldots + \\hat{a}_kx_{ik} - y_i\\right)^2$$\n",
    "\n",
    "В целом, хочется искать модели с наименьшей mean square error на имеющихся данных. Однако слишком фанатичная гонка за минимизацией ошибки может привести к печальным последствиям, в чём Вам предстоит убедиться в ходе выполнения этой лабораторной.\n",
    "\n",
    "Чтобы не попадать в эту ловушку, данные обычно делят на обучающие (по которым строят модель и оценивают коэффициенты) и тестовые. Лучшей стоит счесть ту модель, для которой значение функционала качества будет меньше."
   ]
  },
  {
   "cell_type": "markdown",
   "metadata": {
    "id": "CMrD0HArAn7T"
   },
   "source": [
    "### Правила оформления графиков\n",
    "При работе с данными часто неудобно делать какие-то выводы, если смотреть на таблицу и числа в частности, поэтому важно уметь визуализировать данные. \n",
    "\n",
    "У matplotlib, конечно же, есть [документация](https://matplotlib.org/users/index.html) с большим количеством [примеров](https://matplotlib.org/examples/), но для начала достаточно знать про несколько основных типов графиков:\n",
    "- plot — обычный поточечный график, которым можно изображать кривые или отдельные точки;\n",
    "- hist — гистограмма, показывающая распределение некоторой величины;\n",
    "- scatter — график, показывающий взаимосвязь двух величин;\n",
    "- bar — столбцовый график, показывающий взаимосвязь количественной величины от категориальной.\n",
    "\n",
    "Ещё одна билиотека для визуализации: [seaborn](https://jakevdp.github.io/PythonDataScienceHandbook/04.14-visualization-with-seaborn.html). Это надстройка над matplotlib, иногда удобнее и красивее делать визуализации через неё. \n",
    "\n",
    "При выполнении этой лабораторной Вы столкнётесь с необходимостью рисовать большое количество графиков. Не забывайте про базовые принципы построения приличных графиков:\n",
    "- оси должны быть подписаны, причём не слишком мелко;\n",
    "- у графика должно быть название;\n",
    "- если изображено несколько графиков, то необходима поясняющая легенда;\n",
    "- для точек из разных выборок необходимо использовать разные цвета;\n",
    "- все линии на графиках должны быть чётко видны (нет похожих цветов или цветов, сливающихся с фоном);\n",
    "- если отображена величина, имеющая очевидный диапазон значений (например, проценты могут быть от 0 до 100), то желательно масштабировать ось на весь диапазон значений (исключением является случай, когда вам необходимо показать малое отличие, которое незаметно в таких масштабах).\n",
    "\n",
    "Помните, что проверяющий имеет право снизить оценку за неопрятные графики."
   ]
  },
  {
   "cell_type": "markdown",
   "metadata": {
    "id": "3Ivj-lm0An7U"
   },
   "source": [
    "### Формат сдачи\n",
    "Задания сдаются через систему Anytask. Инвайт можно найти на странице курса. Присылать необходимо ноутбук с выполненным заданием. Сам ноутбук называйте в формате homework-practice-02-linregr-Username.ipynb, где Username — Ваша фамилия."
   ]
  },
  {
   "cell_type": "markdown",
   "metadata": {
    "id": "sgYTlfJlAn7W"
   },
   "source": [
    "### Задание 1. Метод наименьших квадратов (3.1 баллов)\n",
    "\n",
    "**ВАЖНО! В этом задании вам нельзя использовать циклы (в том числе рекурсии, генераторы и конструкции вида map/reduce), кроме цикла в задании 1.5, который мы вам оставили. За наличие цикла в вашем коде мы поставим вам не более половины от стоимости задания.**"
   ]
  },
  {
   "cell_type": "markdown",
   "metadata": {
    "id": "h_HVV2__An7W"
   },
   "source": [
    "Скачайте файлы ``train.txt`` и ``test.txt``. Каждый из файлов содержит два столбца чисел, разделённых пробелами: в первом — некоторое число точек (значения аргумента $x$), во втором — значения некоторой функции $y = f(x)$ в этих точках, искажённые случайным шумом. Функцию $f$ мы вам не скажем. Ваша задача — по данным из файла ``train.txt`` (будем называть их обучающей выборкой) подобрать функцию $y = g(x)$, пристойно приближающую неизвестную вам зависимость."
   ]
  },
  {
   "cell_type": "markdown",
   "metadata": {
    "id": "qhI6CxL0An7Y"
   },
   "source": [
    "Загрузим обучающие и тестовые данные (из файла ``test.txt``)."
   ]
  },
  {
   "cell_type": "code",
   "execution_count": 129,
   "metadata": {
    "id": "ca7tXdbiAn7Z"
   },
   "outputs": [],
   "source": [
    "import numpy as np\n",
    "data_train = np.loadtxt('./train-2.txt', delimiter=',')\n",
    "data_test = np.loadtxt('./test.txt', delimiter=',')"
   ]
  },
  {
   "cell_type": "markdown",
   "metadata": {
    "id": "k3GshOvnAn7b"
   },
   "source": [
    "**0. [0 баллов]** Разделим значения $x$ и $y$"
   ]
  },
  {
   "cell_type": "code",
   "execution_count": 130,
   "metadata": {
    "id": "1BIIDVGjAn7b"
   },
   "outputs": [],
   "source": [
    "x_train = data_train[:,0:1]\n",
    "y_train = data_train[:,1:2]\n",
    "x_test = data_test[:,0:1]\n",
    "y_test = data_test[:,1:2]"
   ]
  },
  {
   "cell_type": "markdown",
   "metadata": {
    "id": "PRLl0nkWAn7c"
   },
   "source": [
    "**1. [0,15 балла]** Найдите с помощью метода наименьших квадратов линейную функцию $y = kx + b$, наилучшим образом приближающую неизвестную зависимость. Полезные функции: ``numpy.ones(n)`` для создания массива из единиц длины $n$ и ``numpy.concatenate((А, В), axis=1)`` для слияния двух матриц по столбцам (пара ``А`` и ``В`` превращается в матрицу ``[A B]``). Напечатайте этот многочлен в виде $kx+b$."
   ]
  },
  {
   "cell_type": "code",
   "execution_count": 131,
   "metadata": {
    "id": "qTMuTy7IAn7d"
   },
   "outputs": [
    {
     "name": "stdout",
     "output_type": "stream",
     "text": [
      "4.0483560781067425x + 2.4539322330626554\n"
     ]
    }
   ],
   "source": [
    "x = np.ones([len(x_train), 1])\n",
    "x = np.concatenate((x_train, x), axis=1)\n",
    "a = ((np.linalg.inv((x.T).dot(x))).dot(x.T)).dot(y_train)\n",
    "print(str(a[0][0])+'x +', a[1][0])"
   ]
  },
  {
   "cell_type": "markdown",
   "metadata": {
    "id": "Bnburua6An7e"
   },
   "source": [
    "**2. [0,15 балла]** Нарисуйте на плоскости точки $(x_i, y_i)$ из обеих выборок и полученную линейную функцию."
   ]
  },
  {
   "cell_type": "code",
   "execution_count": 132,
   "metadata": {
    "id": "Um_XtCIRAn7e"
   },
   "outputs": [
    {
     "data": {
      "image/png": "[encoded data removed]",
      "text/plain": [
       "<Figure size 648x432 with 1 Axes>"
      ]
     },
     "metadata": {
      "needs_background": "light"
     },
     "output_type": "display_data"
    }
   ],
   "source": [
    "import matplotlib.pyplot as plt\n",
    "plt.figure(figsize=(9, 6))\n",
    "plt.plot(x_train, y_train, 'yo', label='Train')\n",
    "plt.plot(x_test, y_test, 'ro', label='Test')\n",
    "y = lambda x: a[0][0]*x + a[1][0]\n",
    "x = np.linspace(-1.0, 1.2, 100)\n",
    "plt.plot(x, y(x), label='Linear function')\n",
    "plt.legend()\n",
    "plt.grid(True)"
   ]
  },
  {
   "cell_type": "markdown",
   "metadata": {
    "id": "crzpARViAn7f"
   },
   "source": [
    "**3. [0,4 балла]** Глядя на данные, подумайте, многочленом какой степени можно было бы лучше всего приблизить эту функцию с точки зрения минимизации среднеквадратичной ошибки на обучающей выборке. Найдите этот многочлен и сохраните его коэффициенты в массив `poly_coef` (от младшего члена к старшему). Обязательно обоснуйте выбор степени многочлена."
   ]
  },
  {
   "cell_type": "code",
   "execution_count": 133,
   "metadata": {
    "id": "PSywLPifAn7g"
   },
   "outputs": [
    {
     "name": "stdout",
     "output_type": "stream",
     "text": [
      "[[ 5.15210854e+00]\n",
      " [ 1.83475015e+01]\n",
      " [-5.66135072e+02]\n",
      " [ 9.59383185e+02]\n",
      " [ 1.52130727e+04]\n",
      " [-2.63916983e+04]\n",
      " [-1.73448537e+05]\n",
      " [ 2.44156700e+05]\n",
      " [ 1.05544321e+06]\n",
      " [-1.09890675e+06]\n",
      " [-3.72332276e+06]\n",
      " [ 2.66164741e+06]\n",
      " [ 7.78707233e+06]\n",
      " [-3.50552310e+06]\n",
      " [-9.43470311e+06]\n",
      " [ 2.33972193e+06]\n",
      " [ 6.06983070e+06]\n",
      " [-6.12157726e+05]\n",
      " [-1.59318857e+06]]\n"
     ]
    }
   ],
   "source": [
    "vander_matrix = np.vander(x_train.flatten(), 19, increasing=True)\n",
    "poly_coef = ((np.linalg.inv((vander_matrix.T).dot(vander_matrix))).dot(vander_matrix.T)).dot(y_train)\n",
    "print(poly_coef)\n",
    "#Выбираем 19-ю степень в интерполяционном многочлене Лагранжа,\n",
    "#потому что она лучше всего приближает к нашим точкам (минимальный MSE), находил подбором, спускаясь от 23"
   ]
  },
  {
   "cell_type": "markdown",
   "metadata": {
    "id": "bVlu8GtRAn7h"
   },
   "source": [
    "**4. [0,15 балла]** Нарисуйте его график на одном чертеже вместе с точками $(x_i, y_i)$ из обеих выборок. Удалось ли графику пройти через все точки из выборки? Попробуйте объяснить, почему?"
   ]
  },
  {
   "cell_type": "code",
   "execution_count": 134,
   "metadata": {
    "id": "2EjDMWVQAn7i"
   },
   "outputs": [
    {
     "data": {
      "image/png": "[encoded data removed]",
      "text/plain": [
       "<Figure size 432x288 with 1 Axes>"
      ]
     },
     "metadata": {
      "needs_background": "light"
     },
     "output_type": "display_data"
    }
   ],
   "source": [
    "plt.plot(x_train, y_train, 'bo', label='Train')\n",
    "plt.plot(x_test, y_test, 'ro', label='Test')\n",
    "x = np.linspace(np.min(x_train), np.max(x_train), 300)\n",
    "values = np.dot(np.vander(x, 19, increasing=True), poly_coef)\n",
    "plt.plot(x, values)\n",
    "plt.legend()\n",
    "plt.grid(True)"
   ]
  },
  {
   "cell_type": "markdown",
   "metadata": {
    "id": "mlVLDqILAn7j"
   },
   "source": [
    "**5. [0,5 балла]** Для $k = 1,2,3,\\ldots,10$ найдите многочлен $\\hat{f}_k$ степени $k$, наилучшим образом приближающий неизвестную зависимость. Сохраните найденные коэффициенты многочленов в матрицу `poly_coefs` (коэффициенты многочлена степени $j$ должны быть сохранены в $j$-й строке матрицы от младшего члена к старшему)."
   ]
  },
  {
   "cell_type": "code",
   "execution_count": 135,
   "metadata": {
    "id": "_kz4i82kAn7j"
   },
   "outputs": [],
   "source": [
    "poly_coefs = np.array([])\n",
    "y_column = y_train.reshape((-1, 1))\n",
    "\n",
    "for k in range(10):\n",
    "    A = np.vander(x_train.flatten(), k + 1, increasing=True)\n",
    "    coef = np.dot(np.dot(np.linalg.inv(np.dot(A.T, A)), A.T), y_column)\n",
    "    res = np.append(coef, np.zeros(10 - k - 1))\n",
    "    poly_coefs = np.append(poly_coefs, res)\n",
    "\n",
    "poly_coefs = poly_coefs.reshape(10, 10)\n",
    "# Простая проверка, что матрица poly_coefs имеет столько строк, сколько нужно\n",
    "assert poly_coefs.shape[0] == 10"
   ]
  },
  {
   "cell_type": "markdown",
   "metadata": {
    "id": "XZm2UpUEAn7k"
   },
   "source": [
    "**6. [0,6 балл]** Для каждого из многочленов из задания 1.5, а также для многочлена из задания 1.4 найдите среднеквадратическую ошибку на обучающих данных и на тестовых данных: $\\frac1{n}\\sum_{i=1}^n\\left( \\hat{f}_k(x_i) - y_i \\right)^2$. Полученные значения ошибок сохраните в матрицу `errors` высоты 11 и ширины 2. В первом столбце матрицы должны стоять значения ошибок на тренировочных данных, во втором --- на тестовых. В первых 10 строках матрицы должны стоять значения ошибок для многочленов соответствующих степений из задания 1.5, в 11-й строке --- значение ошибки для многочлена из задания 1.4."
   ]
  },
  {
   "cell_type": "code",
   "execution_count": 152,
   "metadata": {
    "id": "byyH4arFAn7k"
   },
   "outputs": [
    {
     "name": "stdout",
     "output_type": "stream",
     "text": [
      "[[[  6.0670208   12.2885021   12.14104944  12.78201217   9.91295366\n",
      "     9.04838448   9.05917442   9.44320901   9.59568007   9.68095462]]\n",
      "\n",
      " [[  6.0670208    8.01511333   8.20897823   8.74454735   8.95282193\n",
      "     9.7788905    9.83636984   9.72937856   9.56641917   9.36891384]]\n",
      "\n",
      " [[  6.0670208    7.30119045   7.49620126   7.86165768   8.68700157\n",
      "     9.46035029   9.46405903   9.18243259   9.1252406    9.34187304]]\n",
      "\n",
      " [[  6.0670208   12.99587523  13.11242371  13.83787228  17.62052825\n",
      "    14.59655443  14.64316091  15.21177071  14.76971481  15.71257402]]\n",
      "\n",
      " [[  6.0670208    6.07178055   6.06927702   6.0671239    6.55102571\n",
      "     6.2906517    6.25409068   6.38219455   6.49379415   6.32403612]]\n",
      "\n",
      " [[  6.0670208   20.17145157  18.66500452  15.98339723  22.23052717\n",
      "    25.66108435  25.89342573  27.29607419  27.70871212  28.26273338]]\n",
      "\n",
      " [[  6.0670208   13.34473946  13.05874699  13.4992923   10.42298725\n",
      "     9.12972752   9.08868767   9.1855579    9.33779643   9.81850021]]\n",
      "\n",
      " [[  6.0670208    7.43017016   7.22383538   7.76933751   7.27870976\n",
      "     8.31185538   8.31539164   7.88952966   7.99509218   8.30139387]]\n",
      "\n",
      " [[  6.0670208    7.04488645   7.23239406   7.52605314   8.53613749\n",
      "     9.21857039   9.1987631    8.89937993   8.90117792   9.2363062 ]]\n",
      "\n",
      " [[  6.0670208    6.96607351   7.15013583   7.42062083   8.48048921\n",
      "     9.12524527   9.09802603   8.80048785   8.82217711   9.18485132]]\n",
      "\n",
      " [[  6.0670208   17.11566874  17.8467941   16.8755161   16.87360131\n",
      "    15.74357282  15.86374439  14.84192688  15.26886167  14.47941922]]\n",
      "\n",
      " [[  6.0670208    7.73009119   7.51559049   8.14981695   7.84171182\n",
      "     8.93538714   8.92031159   8.56945768   8.7084167    8.85657705]]\n",
      "\n",
      " [[  6.0670208    9.4647676    9.59268816  10.33638089   9.22326386\n",
      "     9.63810841   9.73567962  10.09476722   9.96114139   9.25609939]]\n",
      "\n",
      " [[  6.0670208    9.22775298   9.03255153   9.96923541  11.10067299\n",
      "    11.5747715   11.48839453  11.91469674  11.96143548  11.38262189]]\n",
      "\n",
      " [[  6.0670208    8.67555857   8.46359812   9.31548544   9.857907\n",
      "    10.70845708  10.64061894  10.74911087  10.87832721  10.48493915]]\n",
      "\n",
      " [[  6.0670208    6.81838022   6.99423578   7.21995965   8.36112804\n",
      "     8.92144784   8.88041371   8.59742615   8.65793305   9.05603691]]\n",
      "\n",
      " [[  6.0670208   10.32156143  10.18509863  11.20028076  13.48138462\n",
      "    12.9165807   12.82810605  13.74674316  13.54740621  13.06561373]]\n",
      "\n",
      " [[  6.0670208   19.09016682  20.19323174  17.91217435  13.82202032\n",
      "    16.92417821  16.73980239  17.94868701  17.48192569  18.40043296]]\n",
      "\n",
      " [[  6.0670208   17.83254261  16.79928679  15.51325317  15.80624149\n",
      "    14.57243424  14.36878242  12.76612732  12.25459501  11.52004924]]\n",
      "\n",
      " [[  6.0670208    9.17139633   9.31791928  10.03423235   9.17791016\n",
      "     9.70846508   9.80484355  10.08267758   9.92347097   9.26071098]]\n",
      "\n",
      " [[  6.0670208   13.12687026  12.87079316  13.35955279  10.30188447\n",
      "     9.0920495    9.06199929   9.22695258   9.38575824   9.7992451 ]]\n",
      "\n",
      " [[  6.0670208   14.81541051  15.17402778  15.32977711  18.39659502\n",
      "    15.08016488  15.22689137  14.75522828  14.69730565  15.45688749]]\n",
      "\n",
      " [[  6.0670208   17.94201703  18.82325751  17.3411497   15.74668811\n",
      "    16.13662677  16.17108867  15.60771751  15.93414738  15.05179578]]\n",
      "\n",
      " [[  3.93623444  13.23723978  13.83943143  13.20728725  14.06168813\n",
      "    12.26376877  12.4050247   11.39317733  11.74649495  11.30293325]]\n",
      "\n",
      " [[  3.93623444  21.77285454  19.67696027  15.17388496  32.07079136\n",
      "    49.35331207  51.61635824  75.43042007  89.06326804 143.14074814]]\n",
      "\n",
      " [[  3.93623444   4.43180253   4.59997172   4.69876206   6.14487691\n",
      "     6.32709882   6.24080299   6.10554231   6.30579358   6.63244485]]\n",
      "\n",
      " [[  3.93623444   5.80396134   6.03142821   6.50330858   7.25947545\n",
      "     8.15860908   8.18037324   7.90507799   7.80161497   7.92574022]]\n",
      "\n",
      " [[  3.93623444  11.09102195  10.93244302  11.62084228   8.51596797\n",
      "     7.56367579   7.5756338    7.99995095   8.16777521   8.26149208]]\n",
      "\n",
      " [[  3.93623444   6.05829806   5.87353776   6.65341752   7.26896387\n",
      "     7.97332984   7.90624941   8.0760846    8.18032617   7.76746228]]\n",
      "\n",
      " [[  3.93623444  13.99805045  14.73507584  13.6640625   13.18991861\n",
      "    12.55812834  12.64989318  11.77931658  12.17563979  11.34166594]]\n",
      "\n",
      " [[  3.93623444   9.11074262   9.13260366   9.95457398  13.32943546\n",
      "    11.05368163  11.04704047  11.89769434  11.45186199  11.97493512]]\n",
      "\n",
      " [[  3.93623444  10.08078271  10.21344186  10.84106047  14.39390503\n",
      "    11.43993849  11.49674396  11.92511384  11.53524214  12.47534744]]\n",
      "\n",
      " [[  3.93623444   3.96277866   3.91917522   3.9685124    4.03599127\n",
      "     3.90124652   3.90214451   3.93480036   3.95826085   3.901984  ]]\n",
      "\n",
      " [[  3.93623444  12.45978423  12.12084754  12.53558728   9.21722561\n",
      "     7.70998035   7.65209371   7.67836398   7.83560107   8.42825954]]\n",
      "\n",
      " [[  3.93623444  18.18908192  16.86376205  14.82362757  17.7018101\n",
      "    17.98767502  17.87984622  16.62349935  16.05889508  14.66476894]]\n",
      "\n",
      " [[  3.93623444  19.44591988  17.86230898  15.03090512  21.60407748\n",
      "    25.18659993  25.42873237  26.88930889  27.31862145  27.89478257]]\n",
      "\n",
      " [[  3.93623444   8.53426197   8.63709348   9.47849045   7.83884825\n",
      "     8.07523      8.17836988   8.68284308   8.59316156   7.81565545]]\n",
      "\n",
      " [[  3.93623444  16.17255689  17.33548037  14.74098924   9.62285288\n",
      "    14.07928163  13.7438992   16.50853783  15.18181788  18.77269898]]\n",
      "\n",
      " [[  3.93623444   4.31987821   4.47377167   4.53993206   5.95734848\n",
      "     6.02799989   5.93816087   5.863601     6.08053315   6.32496509]]\n",
      "\n",
      " [[  3.93623444   8.05595299   7.97903261   8.90233248  11.60665177\n",
      "    10.38663298  10.3236566   11.30449437  10.97835265  10.8401279 ]]\n",
      "\n",
      " [[  3.93623444  14.78865889  15.67378707  14.0941376   12.03905562\n",
      "    12.97317828  12.96617176  12.70926443  12.9161044   12.23767085]]\n",
      "\n",
      " [[  3.93623444   7.09197283   7.2866481    8.00120565   7.60622747\n",
      "     8.38938574   8.4829008    8.59296585   8.39138036   7.84374071]]\n",
      "\n",
      " [[  3.93623444   6.97600938   6.82572348   7.72825852   9.36824899\n",
      "     9.30550662   9.21927104   9.899826     9.82217587   9.26530153]]\n",
      "\n",
      " [[  3.93623444   4.2785579    4.15960337   4.38148856   3.95950587\n",
      "     4.35357116   4.3798228    4.11838158   4.11724893   4.41395588]]\n",
      "\n",
      " [[  3.93623444   5.48211973   5.70754342   6.10081795   7.10870643\n",
      "     7.93732588   7.93260781   7.61046329   7.56851146   7.85795121]]\n",
      "\n",
      " [[  3.93623444   5.30281904   5.11602661   5.71658534   5.59086341\n",
      "     6.55955559   6.53390459   6.29325875   6.42986456   6.44600809]]\n",
      "\n",
      " [[  3.93623444   8.05595299   7.97903261   8.90233248  11.60665177\n",
      "    10.38663298  10.3236566   11.30449437  10.97835265  10.8401279 ]]]\n"
     ]
    }
   ],
   "source": [
    "vander_m = np.vander(x_train.flatten(), 10, increasing=True)\n",
    "vander_testing = np.vander(x_test.flatten(), 10, increasing=True)\n",
    "A_train = np.dot(vander_m, poly_coefs.T)\n",
    "A_test = np.dot(vander_testing, poly_coefs.T)\n",
    "res_train = np.sum(np.square(A_train + (-y_train)[:, None]), axis = 0)[:, None] / len(y_train)\n",
    "res_test = np.sum(np.square(A_test + (-y_test)[:, None]), axis = 0)[:, None] / len(y_test)\n",
    "print(np.concatenate((res_train, res_test), axis=0))"
   ]
  },
  {
   "cell_type": "markdown",
   "metadata": {
    "id": "VKns2ndWAn7l"
   },
   "source": [
    "**7. [0,5 балла]** Для $k = 1,2,3,4,6$ нарисуйте графики полученных многочленов на одном чертеже вместе с точками $(x_i, y_i)$ из обеих выборок (возможно, график стоит сделать побольше; это делается командой `plt.figure(figsize=(width, height))`)."
   ]
  },
  {
   "cell_type": "code",
   "execution_count": 86,
   "metadata": {
    "id": "Vwt574k1An7m"
   },
   "outputs": [
    {
     "data": {
      "image/png": "[encoded data removed]",
      "text/plain": [
       "<Figure size 1008x720 with 1 Axes>"
      ]
     },
     "metadata": {
      "needs_background": "light"
     },
     "output_type": "display_data"
    }
   ],
   "source": [
    "y1 = lambda x: poly_coefs[0][0] + poly_coefs[0][1] * x\n",
    "y2 = lambda x: poly_coefs[1][0] + poly_coefs[1][1] * x + poly_coefs[1][2] * (x**2)\n",
    "y3 = lambda x: poly_coefs[2][0] + poly_coefs[2][1] * x + poly_coefs[2][2] * (x**2) + poly_coefs[2][3] * (x**3)\n",
    "y4 = lambda x: poly_coefs[3][0] + poly_coefs[3][1] * x + poly_coefs[3][2] * (x**2) + poly_coefs[3][3] * (x**3) + poly_coefs[3][4] * (x**4)\n",
    "y6 = lambda x: poly_coefs[5][0] + poly_coefs[5][1] * x + poly_coefs[5][2] * (x**2) + poly_coefs[5][3] * (x**3) + poly_coefs[5][4] * (x**4) + poly_coefs[5][4] * (x**5) + poly_coefs[5][6] * (x**6)\n",
    "plt.figure(figsize=(14, 10))\n",
    "x_axis = np.linspace(min(x_train), max(x_train), 100)\n",
    "plt.plot(x_axis, y1(x_axis), label=\"k = 1\")\n",
    "plt.plot(x_axis, y2(x_axis), label=\"k = 2\")\n",
    "plt.plot(x_axis, y3(x_axis), label=\"k = 3\")\n",
    "plt.plot(x_axis, y4(x_axis), label=\"k = 4\")\n",
    "plt.plot(x_axis, y6(x_axis), label=\"k = 6\")\n",
    "plt.scatter(x_train, y_train, label=\"Train\")\n",
    "plt.scatter(x_test, y_test, label=\"Test\")\n",
    "plt.legend()\n",
    "plt.grid(True)"
   ]
  },
  {
   "cell_type": "markdown",
   "metadata": {
    "id": "YXMClHOOAn7n"
   },
   "source": [
    "**8. [0,65 балла]** Что происходит с ошибкой на тестовых данных при росте степени многочлена? Казалось бы, чем больше степень, тем более сложным будет многочлен и тем лучше он будет приближать нашу функцию. Подтверждают ли это ваши наблюдения? Как вам кажется, чем объясняется поведение ошибки на тестовых данных при $k = 10$? Как называется наблюдаемый вами эффект?"
   ]
  },
  {
   "cell_type": "markdown",
   "metadata": {
    "id": "-6rGUQMqAn7n"
   },
   "source": [
    "**Ответ:** Явление, которое происходит при увеличении степени многочлена, называется переобучением. При росте степени наш многочлен хорошо приближается на тренировочных данных, но из-за этого хворает точность на любых других данных. В графиках это будет отображаться как большие колебания на участках между точками из обучающей выборки."
   ]
  },
  {
   "cell_type": "markdown",
   "metadata": {
    "id": "iwhYglpqSgh1"
   },
   "source": [
    "## Часть 2: Обучаем машины"
   ]
  },
  {
   "cell_type": "markdown",
   "metadata": {
    "id": "KFN99QhUAn7o"
   },
   "source": [
    "### Задание 2. Линейная регрессия (3 балла)"
   ]
  },
  {
   "cell_type": "markdown",
   "metadata": {
    "id": "EIPGe5d0JSgq"
   },
   "source": [
    "В этом задании вам предстоит заняться предсказанием цен на алмазы. Скачайте файл `diamonds_features.csv`, содержащий данные, с которыми вам предстоит работать. Запустите следующую ячейку:"
   ]
  },
  {
   "cell_type": "code",
   "execution_count": 97,
   "metadata": {
    "id": "8_G9QdO6PdP4"
   },
   "outputs": [
    {
     "name": "stdout",
     "output_type": "stream",
     "text": [
      "[['0.8' 'Ideal' 'F' 'VS1' '62.4' '55.0' '5.92' '5.88' '3.68' '3884']\n",
      " ['0.91' 'Premium' 'F' 'SI2' '61.4' '60.0' '6.23' '6.21' '3.82' '3618']\n",
      " ['1.28' 'Premium' 'I' 'VS2' '61.7' '60.0' '7.05' '6.95' '4.32' '6762']\n",
      " ['0.41' 'Very Good' 'F' 'SI1' '61.9' '55.0' '4.78' '4.81' '2.97' '769']\n",
      " ['1.07' 'Premium' 'F' 'SI2' '61.8' '59.0' '6.53' '6.57' '4.05' '4560']]\n"
     ]
    }
   ],
   "source": [
    "data = np.loadtxt(\"diamonds_features.csv\", delimiter=\",\", dtype=\"str\")[1:, :]\n",
    "print(data[:5, :])"
   ]
  },
  {
   "cell_type": "markdown",
   "metadata": {
    "id": "ghn2xvL5P8BK"
   },
   "source": [
    "Мы вывели для вас первые 5 строчек данных. Описания значений в колонках вы можете найти в файле `diamonds_descriptions.txt`.\n",
    "\n",
    "Глобально в этом задании вам предстоит научиться строить модель линейной регрессии для предсказания цены алмаза по его признакам. Данные устроены таким образом, что в каждой строчке располагаются признаки, описывающие объект (алмаз), а в каждой фиксированной колонке --- всевозможные значения конкретного признака для всех объектов в данных."
   ]
  },
  {
   "cell_type": "markdown",
   "metadata": {
    "id": "fJEFOEpJAn7p"
   },
   "source": [
    "**0. [0 баллов]** Разделите выборку на обучающую и тестовую. Делать это лучше случайным образом (ведь вы не знаете, как создатели датасета упорядочили объекты); рекомендуем вам для этого функцию [sklearn.model_selection.train_test_split](https://scikit-learn.org/stable/modules/generated/sklearn.model_selection.train_test_split.html) с параметром `test_size=0.3`. Обязательно зафиксируйте параметр `random_state`."
   ]
  },
  {
   "cell_type": "code",
   "execution_count": 98,
   "metadata": {
    "id": "RoFzvGRBAn7q"
   },
   "outputs": [],
   "source": [
    "from sklearn.model_selection import train_test_split\n",
    "train, test = train_test_split(data, test_size=0.3, random_state=42)"
   ]
  },
  {
   "cell_type": "markdown",
   "metadata": {
    "id": "dVO-0MsaTXXT"
   },
   "source": [
    "Теперь у вас есть две выборки, каждая из которых содержит случайное подмножество наших данных. Обучающую выборку мы в дальнейшем будем использовать для обучения модели линейной регрессии, а тестовую, соответственно, для теста.\n",
    "\n",
    "**ВАЖНО: за обучение модели на тестовой выборке будем ставить 0 за весь пункт!**"
   ]
  },
  {
   "cell_type": "markdown",
   "metadata": {
    "id": "JEQLiBg-_zfK"
   },
   "source": [
    "### Работаем с числовыми данными"
   ]
  },
  {
   "cell_type": "markdown",
   "metadata": {
    "id": "bHSfXGDeC0b1"
   },
   "source": [
    "Сейчас ваши данные содержат как привычные вам числовые признаки, описывающие объект, так и категориальные признаки, которые описывают принадлежность объекта к той или иной категории, и в данных представляются строками. Что делать с данными, которые представлены строками --- мы разберёмся чуть позже, а пока давайте забудем, что они у нас есть, и будем работать только с числовыми."
   ]
  },
  {
   "cell_type": "markdown",
   "metadata": {
    "id": "KGGUh0UBEHSG"
   },
   "source": [
    "**0,5. [0 баллов]** Заполните переменные `numeric_features` и `categorical_features` индексами столбцов в данных, содержащих числовые и категориальные признаки соответственно. После этого можно проверить, что массив `data[:, numeric_features]` содержит только числовые данные."
   ]
  },
  {
   "cell_type": "code",
   "execution_count": 99,
   "metadata": {
    "id": "kZWCocxzE-dv"
   },
   "outputs": [
    {
     "name": "stdout",
     "output_type": "stream",
     "text": [
      "[['0.8' '62.4' '55.0' ... '5.88' '3.68' '3884']\n",
      " ['0.91' '61.4' '60.0' ... '6.21' '3.82' '3618']\n",
      " ['1.28' '61.7' '60.0' ... '6.95' '4.32' '6762']\n",
      " ...\n",
      " ['0.31' '61.4' '56.0' ... '4.41' '2.7' '609']\n",
      " ['0.36' '62.0' '59.0' ... '4.51' '2.81' '807']\n",
      " ['0.31' '59.0' '62.0' ... '4.43' '2.61' '755']]\n"
     ]
    }
   ],
   "source": [
    "numeric_features = [0, 4, 5, 6, 7, 8, 9]\n",
    "categorical_features = [1, 2, 3]\n",
    "print(data[:, numeric_features])"
   ]
  },
  {
   "cell_type": "markdown",
   "metadata": {
    "id": "Fiqc6nBwFVpP"
   },
   "source": [
    "**1. [0,3 баллов]** Решите задачу линейной регрессии для предсказания цены алмаза по его числовым признакам (не забудьте, что линейная модель должна также содержать свободный от признаков член) и протестируйте ваше решение на тестовых данных. Выведите полученные регрессионные коэффициенты для каждого признака. Попробуйте проинтерпретировать полученные коэффициенты: сравните их друг с другом, посмотрите на их знаки и на абсолютную величину и попробуйте на основе этого придать им житейский смысл. Согласуется ли построенная интерпретация модели с вашими представлениями о жизни? \n",
    "\n",
    "*Примечание: обратите внимание, сейчас все данные у вас хранятся в строковом виде. Чтобы работать с ними как с числами, необоходимо явно привести их к типу float. В NumPy для этого есть специальная удобная команда astype.*"
   ]
  },
  {
   "cell_type": "code",
   "execution_count": 122,
   "metadata": {
    "id": "Q-rpxCQLH1VY"
   },
   "outputs": [
    {
     "name": "stdout",
     "output_type": "stream",
     "text": [
      "[10786.23794008  -199.27867511   -95.04055851 -1308.08011017\n",
      "    24.32725833    37.04825216 20320.6938328 ]\n",
      "mse train: 2279751.060826316\n",
      "mse test: 2113575.91712058\n"
     ]
    }
   ],
   "source": [
    "x_train = train[:, numeric_features][:, :-1]\n",
    "y_train = train[:, numeric_features][:, -1]\n",
    "x_train = np.concatenate((x_train, np.ones(len(x_train)).reshape(-1, 1)), axis = 1)\n",
    "x_train = x_train.astype(float)\n",
    "y_train = y_train.astype(float)\n",
    "с = np.dot((np.dot((np.linalg.inv(np.dot(x_train.T, x_train))), (x_train.T))), y_train)\n",
    "print(с)\n",
    "mse_train = np.square(np.dot(x_train, a) - y_train).mean()\n",
    "print(\"mse train: \" + str(mse_train))\n",
    "x_test = test[:, numeric_features][:, :-1]\n",
    "y_test = test[:, numeric_features][:, -1]\n",
    "x_test = np.concatenate((x_test, np.ones(len(x_test)).reshape(-1, 1)), axis = 1)\n",
    "x_test = x_test.astype(float)\n",
    "y_test = y_test.astype(float)\n",
    "mse_test = np.square(np.dot(x_test, a) - y_test).mean()\n",
    "print(\"mse test: \" + str(mse_test))"
   ]
  },
  {
   "cell_type": "markdown",
   "metadata": {
    "id": "Se87BnStIAOK"
   },
   "source": [
    "**Интерпретация модели здесь**: Действительно, x, y, z и carat имеют положительные коэффициенты, a depth и table отрицательные, что как раз и хорошо согласуется с жизнью, потому что чем больше алмаз и чем он чище, тем он и дороже и как раз depth и table (чистота) своими отриц. коэффициентами уменьшают дороговизну бриллианта."
   ]
  },
  {
   "cell_type": "markdown",
   "metadata": {
    "id": "6uGLZR-0TxaP"
   },
   "source": [
    "Если вы всё сделали правильно, у вас должны были получиться довольно большие по абсолютной величине коэффициенты."
   ]
  },
  {
   "cell_type": "markdown",
   "metadata": {
    "id": "58iMlV0TUHHz"
   },
   "source": [
    "**2. [0,15 баллов]** Попробуйте объяснить, почему ситуация, когда модель имеет большие по модулю коэффиценты, нежелательна?\n",
    "\n",
    "Подсказка: Вы можете попытаться проиллюстрировать свои рассуждения, искусственно описав с помощью исследуемых признаков два алмаза, которые по вашему мнению должны иметь одинаковую цену, и проверить, выдаст ли построенная модель близкие предсказания на этих объектах."
   ]
  },
  {
   "cell_type": "markdown",
   "metadata": {
    "id": "a3oKgoUjWiem"
   },
   "source": [
    "**Ваше обоснование здесь**: Потому что очень сильно уменьшается точность и большие коэффициенты, которые чуть побольше остальных, начинают искажать истинную стоимость алмаза."
   ]
  },
  {
   "cell_type": "markdown",
   "metadata": {
    "id": "ycsEn6t9nwLB"
   },
   "source": [
    "**3. [0.2 баллов]** Нарисуйте гистограмму, характеризующую распределение объясняемой переменной в обучающей выборке. На такой диаграмме по оси `x` должны быть сгруппированные значения объясняемой переменной, а по оси `y` --- количество объектов выборки с таким значением. Столбцов на вашем графике должно быть не менее 50."
   ]
  },
  {
   "cell_type": "code",
   "execution_count": 115,
   "metadata": {
    "id": "itrJbGIl-I9Q"
   },
   "outputs": [
    {
     "data": {
      "image/png": "[encoded data removed]",
      "text/plain": [
       "<Figure size 1224x720 with 1 Axes>"
      ]
     },
     "metadata": {
      "needs_background": "light"
     },
     "output_type": "display_data"
    }
   ],
   "source": [
    "plt.figure(figsize=(17, 10))\n",
    "plt.grid(True)\n",
    "plt.hist(y_train, bins=70)\n",
    "plt.title('Distribution for diamond price', fontsize=15)\n",
    "plt.xlabel(\"Diamond's cost\", fontsize=15)\n",
    "plt.ylabel('Quantity', fontsize=15)\n",
    "plt.show()"
   ]
  },
  {
   "cell_type": "markdown",
   "metadata": {
    "id": "SEvOIN0DQyhZ"
   },
   "source": [
    "В левой части гистограммы располагаются небольшие значения целевой переменной, и объектов с таким значением в выборке довольно много (не забываем, что у нас тут не абстрактная математика в вакууме, мы тут цену алмазов предсказываем!); с увеличением значения таргета (целевой переменной) количество соответствующих объектов в выборке убывает. Сначала число объектов убывает довольно стремительно, но с некоторого момента разница в высоте между соседними столбцами уже почти незаметна. Такое явление называется \"распределение с тяжёлым хвостом\", и оно не очень желательно при построении модели."
   ]
  },
  {
   "cell_type": "markdown",
   "metadata": {
    "id": "PO37Qg7BTyqw"
   },
   "source": [
    "Попробуем избавиться от тяжёлого хвоста. Для этого нужно применить к таргету какую-нибудь медленнорастущую биективную функцию, например логарифм. \n",
    "\n",
    "<!-- Однако вспомним, что мы намеренно отмасштабировали таргет таким образом, чтобы среди его значений был 0, поэтому нужно придумать ещё какое-то преобразование, чтобы все значения целевой переменной попали в область определения логарифма. -->"
   ]
  },
  {
   "cell_type": "markdown",
   "metadata": {
    "id": "nXb63LraZaCL"
   },
   "source": [
    "**4. [0,25 баллов]** Прологарифмируйте целевую переменную и нарисуйте график распределения логарифмированного таргета. Сильно ли он отличается от предыдущего графика? Попробуйте объяснить, почему явление \"распределения с тяжёлым хвостом\" нежелательно при построении модели."
   ]
  },
  {
   "cell_type": "code",
   "execution_count": 120,
   "metadata": {
    "id": "AdgFVEebZwPT"
   },
   "outputs": [
    {
     "data": {
      "image/png": "[encoded data removed]",
      "text/plain": [
       "<Figure size 1368x720 with 1 Axes>"
      ]
     },
     "metadata": {
      "needs_background": "light"
     },
     "output_type": "display_data"
    }
   ],
   "source": [
    "plt.figure(figsize = (19, 10))\n",
    "plt.hist(np.log(y_train), bins = 70)\n",
    "plt.title('Logarithmic distribution for diamond price', fontsize=15)\n",
    "plt.xlabel(\"Diamond's cost\", fontsize=15)\n",
    "plt.ylabel('Quantity', fontsize=15)\n",
    "plt.grid(True)"
   ]
  },
  {
   "cell_type": "markdown",
   "metadata": {
    "id": "jrlDuorpEiU8"
   },
   "source": [
    "**Ваше обоснование здесь**: Модель будет подвержена сильному влиянию от небольшого кол-ва элементов с высокой ценой"
   ]
  },
  {
   "cell_type": "markdown",
   "metadata": {
    "id": "Ty0T3kk5EiZ-"
   },
   "source": [
    "Снова обучите линейную модель, считая целевой переменной логарифмированный таргет. Помните, что чтобы протестировать полученную линейную модель, важно взять экспоненту от полученных предсказаний."
   ]
  },
  {
   "cell_type": "code",
   "execution_count": 127,
   "metadata": {
    "id": "NbWAprptKEt0"
   },
   "outputs": [
    {
     "name": "stdout",
     "output_type": "stream",
     "text": [
      "[-0.73978634  0.02345871 -0.00891653  1.13200348  0.01680622  0.04767011\n",
      "  0.68763929]\n",
      "mse train: 2279751.060826316\n",
      "mse train log: 2873628.4659371288\n",
      "mse test: 2113575.91712058\n",
      "mse test log: 2514576.89020434\n"
     ]
    }
   ],
   "source": [
    "b = np.dot((np.dot((np.linalg.inv(np.dot(x_train.T, x_train))), (x_train.T))), np.log(y_train))\n",
    "print(b)\n",
    "predict_train = np.array(list(map(np.exp, np.dot(x_train, b))))\n",
    "mse_train_log = np.square(predict_train - y_train).mean()\n",
    "predict_test = np.array(list(map(np.exp, np.dot(x_test, b))))\n",
    "mse_test_log = np.square(predict_test - y_test).mean()\n",
    "print(\"mse train: \" + str(mse_train))\n",
    "print(\"mse train log: \" + str(mse_train_log))\n",
    "print(\"mse test: \" + str(mse_test))\n",
    "print(\"mse test log: \" + str(mse_test_log))"
   ]
  },
  {
   "cell_type": "markdown",
   "metadata": {
    "id": "NTSiJAeYE4EM"
   },
   "source": [
    "Удалось ли добиться лучшего качества?"
   ]
  },
  {
   "cell_type": "markdown",
   "metadata": {
    "id": "zugn9a3fE8nb"
   },
   "source": [
    "**Ответ**: Результат не улучшился ни на одной из выборок"
   ]
  },
  {
   "cell_type": "markdown",
   "metadata": {
    "id": "NHn1U5xJaPVH"
   },
   "source": [
    "### Работаем с категориальными признаками"
   ]
  },
  {
   "cell_type": "markdown",
   "metadata": {
    "id": "_CLrKbkJdK2b"
   },
   "source": [
    "До сих пор мы работали с данными, которые представляются числами. Однако часто в датасетах объекты описываются не только признаками, содержащими числа, но и строковыми признаками, определяющими принадлежность объекта к некоторой категории. Такие признаки называются категориальными. Важно не выкидывать их из модели, потому что часто они содержат довольно полезную информацию об объекте, которую хорошая модель должна обязательно учитывать.\n",
    "\n",
    "В этом разделе мы будем рассматривать только категориальные признаки, временно забыв про числовые.\n",
    "\n",
    "Естесственно, нам нужно придумать, как закодировать категориальные признаки числами. Есть довольно много подходов к такой кодировке, но мы рассмотрим два самых базовых. Первая мысль, которая приходит в голову такая: давайте занумеруем все категории фиксированного признака, и заменим их строковое представление соответствующим численным."
   ]
  },
  {
   "cell_type": "markdown",
   "metadata": {
    "collapsed": true,
    "id": "Zh1vygTdAn7u"
   },
   "source": [
    "**5. [0,3 баллов]** Реализуйте описанную выше процедуру кодирования для всех категориальных признаков в выборке. Вы можете сделать это самостоятельно, а можете разобраться в классе `OrdinalEncoder` библиотеки `sklearn`. Обучите линейную модель на закодированных категориальных признаках и протестируйте. "
   ]
  },
  {
   "cell_type": "code",
   "execution_count": 150,
   "metadata": {
    "id": "FETTkQQGo_-P"
   },
   "outputs": [],
   "source": []
  },
  {
   "cell_type": "markdown",
   "metadata": {
    "id": "9O9CmAifpAJK"
   },
   "source": [
    "Подумайте, в чём потенциальные проблемы такого кодирования? (Подсказка: пусть изначально мы закодировали категорию A числом 1, а категорию B числом 2, а потом решили сделать наоборот: A <-> 2, B <-> 1. Подумайте, может ли измениться качество модели? А должно ли?)"
   ]
  },
  {
   "cell_type": "markdown",
   "metadata": {
    "id": "ZBkiDk5qqtSk"
   },
   "source": [
    "**Ваше обоснование здесь**: "
   ]
  },
  {
   "cell_type": "markdown",
   "metadata": {
    "id": "3NY2scS1rAuU"
   },
   "source": [
    "Теперь давайте попробуем исправить недочёты такого способа кодирования категориальных признаков, придумав другой метод. Пусть некоторый признак имеет 4 различные категории: {A, B, C, D}. Заменим этот признак на 4 бинарных признака. Каждый из новых признаков будет являться индикатором одной из этих четырёх категорий: если некоторый объект имел категорию A, то после нашего кодирования значение признака, соответствующего категории А у этого объекта будет равно $1$, а значения оставшихся трёх признаков будут $0$. Небольшая иллюстрация: пусть так выглядела выборка до кодирования\n",
    "\n",
    "| Объект | Признак |\n",
    "| :----------:|:-:|\n",
    "| X | \"B\" |\n",
    "| Y | \"D\" |\n",
    "\n",
    "А так будет выглядеть после кодирования:\n",
    "\n",
    "| Объект | Признак == \"A\" | Признак == \"B\" | Признак == \"C\" | Признак == \"D\" |\n",
    "| :----------:|:-:|:-:|:-:|:-:|\n",
    "| X | 0 | 1 | 0 | 0 |\n",
    "| Y | 0 | 0 | 0 | 1 |\n"
   ]
  },
  {
   "cell_type": "markdown",
   "metadata": {
    "id": "U_VHgVKjtpwr"
   },
   "source": [
    "**6. [0,3 баллов]** Реализуйте описанную выше процедуру кодирования для всех категориальных признаков в выборке. Вы можете сделать это самостоятельно, а можете разобраться в классе `OneHotEncoder` библиотеки `sklearn`. Обучите линейную модель на закодированных категориальных признаках и протестируйте. "
   ]
  },
  {
   "cell_type": "code",
   "execution_count": null,
   "metadata": {},
   "outputs": [],
   "source": []
  },
  {
   "cell_type": "markdown",
   "metadata": {
    "id": "rSOmE1iLty7n"
   },
   "source": [
    "Подумайте, в чём потенциальные проблемы такого кодирования? Какие недочёты прошлого метода кодирования исправляет предложенный способ? Какие недочёты есть у этого метода кодирования, которых нет у предыдущего? Который из двух методов выдаёт лучшее качество?"
   ]
  },
  {
   "cell_type": "markdown",
   "metadata": {
    "id": "8grwr0ZBuIgq"
   },
   "source": [
    "Ваше обоснование здесь:"
   ]
  },
  {
   "cell_type": "markdown",
   "metadata": {
    "id": "IBEMSIfuzoGJ"
   },
   "source": [
    "**7. [0,5 баллов]** Обучите линейную модель на всех данных, выполнив все необходимые преобразования. Постарайтесь добиться меньшей ошибки модели, чем во всех предыдущих заданиях."
   ]
  },
  {
   "cell_type": "code",
   "execution_count": 147,
   "metadata": {
    "id": "HiXPa1UcQYje"
   },
   "outputs": [],
   "source": [
    "# ╰( ͡° ͜ʖ ͡° )つ──☆*:・ﾟ"
   ]
  },
  {
   "cell_type": "markdown",
   "metadata": {
    "id": "TOt1HIMMg0nu"
   },
   "source": [
    "### Feature engineering"
   ]
  },
  {
   "cell_type": "markdown",
   "metadata": {
    "id": "Ua8Hc_I2NdE8"
   },
   "source": [
    "#### Описание задания.\n",
    "\n",
    "В рамках этого задания вам предстоит улучшить модель и сделать предсказания на выборке из файла`diamonds_test.csv`, ответов к которой мы вам не дадим. Полученные предсказания вам нужно будет сдать в соревнование на сайте [kaggle.com](https://www.kaggle.com/c/hse-lab-linear-regression-21-22/overview). Подробнее о том, как сдавать предсказания, написано в конце раздела. Разумеется, чтобы иметь возможность сдать предсказания, вам нужно быть зарегистрированными на сайте. \n",
    "\n",
    "Оценка за задание рассчитывается исходя из ошибки полученных вами предсказаний и состоит из базовой части и бонусных баллов. Базовая часть оценки определяется следующими пороговыми значениями качества:\n",
    "\n",
    "*   MSE $\\leq 1950000$ ---- 0,25 балла\n",
    "*   MSE $\\leq 1370000$ ---- 0,5 балла\n",
    "*   MSE $\\leq 1280000$ ---- 0,75 балла\n",
    "*   MSE $\\leq 1170000$ ---- 1 балл\n",
    "\n",
    "Если ваша модель выдаёт качество сильно лучше, чем требуется в пороге на 1 балл, то вы можете претендовать на бонусные баллы, приняв участие в полноценном соревновании, смысл которого в том, чтобы получить качество как можно лучше (добиться наименьшей возможной ошибки). \n",
    "\n",
    "Если вы хотите поучаствовать, то просто продолжайте улучшать вашу модель и сдавать предсказания в соревнование. Бонусные баллы будут рассчитываться на основе ошибки полученных вами предсказаний и вашей позиции в лидерборде соревнования. Как именно будет рассчитываться оценка --- мы вам сообщим после завершения соревнования. Точно можем сказать, что наибольшее число баллов за задание получит только один студент --- тот, кто будет находиться на первой позиции в лидерборде на момент дедлайна. Человек на следующем месте уже получит немного меньше, следующий --- ещё меньше, и так далее. Каждый студент, качество предсказаний которого хоть немного лучше нашего порога на 1 балл, обязательно получит бонусные баллы.\n",
    "\n",
    "Чтобы подтвердить своё участие в соревновании, вам нужно будет сдать вашу модель вместе с лабораторной (лучше в отдельном файле, но можно её и прямо здесь написать).\n",
    "\n",
    "**Максимум бонусных баллов за задание: 3**"
   ]
  },
  {
   "cell_type": "markdown",
   "metadata": {
    "id": "esBQkVIY25zH"
   },
   "source": [
    "\n",
    "\n",
    "---\n",
    "\n"
   ]
  },
  {
   "cell_type": "markdown",
   "metadata": {
    "id": "ujFRVw0_focC"
   },
   "source": [
    "В оставшейся части данного раздела приводятся несколько заданий, за выполнение котороых вы не получите баллов. Эти задания даны специально, чтобы вы посмотрели, какие есть идеи для дальнейшего улучшения модели.  Разумеется, мы не требуем от вас, чтобы ваша финальная модель следовала указаниям из этих заданий --- вы можете вообще не выполнять ни одного задания отсюда, оцениваться будут только сданные вами предсказания.\n",
    "\n",
    "\n",
    "\n"
   ]
  },
  {
   "cell_type": "markdown",
   "metadata": {
    "id": "Qa714bBHg8_B"
   },
   "source": [
    "До сих пор мы только исследовали вопрос, как подготовить признаки из датасета, чтобы модель могла на их основе делать какие-то предсказания. При этом до сих пор мы никак не учитывали специфичность задачи: действительно, до этого момента нас интересовало только то, является ли признак числовым или категориальным, мы никак не учитывали физический смысл признаков. Однако часто датасеты предоставляют лишь самую общую информацию об объектах: признаки, которые легко измерить и запомнить. В таком случае при анализе данных нужно выдумывать собственные признаки, которые некоторым образом зависят от уже представленных в датасете признаков и **ни в коем случае не зависят от объясняемой переменной**.\n",
    "\n",
    "В общем случае процесс придумывания новых признаков довольно творческий. Есть, конечно, некоторые более-менее общие подходы, позволяющие улучшить качество модели путём добавления новых признаков, но часто аналитики придумывают признаки, основываясь не только на известных эвристиках, но и на собственном представлении о жизни.\n",
    "\n",
    "Давайте теперь поисследуем наши данные и подумаем, какие признаки можно добавить, чтобы улучшить модель."
   ]
  },
  {
   "cell_type": "markdown",
   "metadata": {
    "id": "bPhiy1IhiLow"
   },
   "source": [
    "**8.** Нарисуйте графики, отображающие зависимость цены алмаза от веса, длины, ширины и глубины (всего должно получиться 4 графика). Проинтерпретируйте наблюдаемую на них зависимость. Согласуется ли она с вашими представлениями о жизни?\n",
    "\n",
    "*Примечание: для изображения зависимости одной величины от другой лучше всего подходит график типа scatter.*"
   ]
  },
  {
   "cell_type": "code",
   "execution_count": null,
   "metadata": {
    "id": "nQzcpqqNkGYq"
   },
   "outputs": [],
   "source": [
    "# ╰( ͡° ͜ʖ ͡° )つ──☆*:・ﾟ"
   ]
  },
  {
   "cell_type": "markdown",
   "metadata": {
    "id": "jd6J9SQlkGwZ"
   },
   "source": [
    "Подумайте, какую функцию можно применить к признакам, чтобы зависимость целевой переменной от них больше напоминала линейную?"
   ]
  },
  {
   "cell_type": "markdown",
   "metadata": {
    "id": "hU63JZex0h_P"
   },
   "source": [
    "Ваше обоснование здесь: ╰( ͡° ͜ʖ ͡° )つ──☆*:・ﾟ"
   ]
  },
  {
   "cell_type": "markdown",
   "metadata": {
    "id": "1L7iSqah0mYd"
   },
   "source": [
    "**9.** На одном рисунке изобразите график зависимости целевой переменной от признака depth и график зависимости целевой переменной от признака table. Чтобы картинка получилась читаемой, сделайте графики полупрозрачными (параметр `alpha`). Что вы можете сказать о получившемся рисунке? Правда ли, что модели будет достаточно оставить только один из этих признаков? Убедитесь в этом, нарисовав аналогичные графики зависимости признаков depth и table от других числовых признаков.\n",
    "\n",
    "*Примечание: почитайте про plt.subplots, чтобы узнать, как красиво рисовать несколько графиков.*"
   ]
  },
  {
   "cell_type": "code",
   "execution_count": null,
   "metadata": {
    "id": "UqTp9xWY28Av"
   },
   "outputs": [],
   "source": [
    "# ╰( ͡° ͜ʖ ͡° )つ──☆*:・ﾟ"
   ]
  },
  {
   "cell_type": "markdown",
   "metadata": {
    "id": "6kZjZ2Ww3YF0"
   },
   "source": [
    "Казалось бы, мы тут пытаемся придумать новые признаки, чтобы улучшить модель, зачем нам выбрасывать уже имеющиеся признаки? Дело в том, что если в выборке есть \"похожие\" в некотором смысле признаки, то модель, обученная на таких данных, может выдавать худший результат, чем если бы похожих признаков в выборке не было. Продемонстрируем это явление на практике."
   ]
  },
  {
   "cell_type": "markdown",
   "metadata": {
    "id": "5x3TzT7V4gDP"
   },
   "source": [
    "**10.** Обучите линейную модель, предсказывающую цену алмазов на признаках x, y, z из наших данных. Замерьте качество полученной линейной модели на тестовой выборке, после чего добавьте признак $\\tau = \\frac{x}{2} + 4y - z + 1$, и снова обучите линейную модель. Которая из моделей добилась лучшего качества?"
   ]
  },
  {
   "cell_type": "code",
   "execution_count": null,
   "metadata": {
    "id": "ktbNFzsz5gt9"
   },
   "outputs": [],
   "source": [
    "# ╰( ͡° ͜ʖ ͡° )つ──☆*:・ﾟ"
   ]
  },
  {
   "cell_type": "markdown",
   "metadata": {
    "id": "RbZ4u40h_MyO"
   },
   "source": [
    "Объясните, почему наличие похожих признаков в выборке заметно ухудшает качество, выдаваемое линейной моделью?"
   ]
  },
  {
   "cell_type": "markdown",
   "metadata": {
    "id": "gEINdpQy_XcA"
   },
   "source": [
    "Ваше обоснование здесь: ╰( ͡° ͜ʖ ͡° )つ──☆*:・ﾟ"
   ]
  },
  {
   "cell_type": "markdown",
   "metadata": {
    "id": "argZX3YMCb6e"
   },
   "source": [
    "Итак, мы обсудили, исходя из каких соображений можно выбирать преобразования над имеющимися признаками и когда для модели может быть полезнее выкинуть некоторый признак из выборки, чем оставить его. Теперь давайте придумаем совсем новый признак. Для этого снова посмотрим на такие характеристики алмазов, как длина, ширина и глубина. Эти характеристики несомненно важны для предсказания цены алмазов, и все построенные нами модели находили какую-то закономерность, но теперь давайте мы попробуем их объединить в новом признаке `объём`. Для начала будем считать, что объём алмаза неплохо приближается объёмом параллелепипеда с такими же измерениями."
   ]
  },
  {
   "cell_type": "markdown",
   "metadata": {
    "id": "DtlMCLwEDhhG"
   },
   "source": [
    "**11.** Обучите линейную модель на 4 признаках: x, y, z, и объём параллелепипеда со сторонами (x, y, z). Сравните качество полученной модели с качеством, выдаваемым моделью, обученной на признаках x, y, z."
   ]
  },
  {
   "cell_type": "code",
   "execution_count": null,
   "metadata": {
    "id": "5fgSn6IZELmT"
   },
   "outputs": [],
   "source": [
    "# ╰( ͡° ͜ʖ ͡° )つ──☆*:・ﾟ"
   ]
  },
  {
   "cell_type": "markdown",
   "metadata": {
    "id": "6XuJr72iGBSy"
   },
   "source": [
    "Понятно, что алмазы редко выглядят как идеальные параллелепипеды (хотя, конечно, многое зависит от огранки), и чаще встречаются алмазы, форма которых скорее напоминает эллипсоид. Снова обучите линейную модель на 4 признаках: x, y, z и объём эллипсоида с осями (x, y, z). Сравните полученную модель с предыдущей. Сильно ли отличается качество у этих моделей? Объясните, почему так получилось?"
   ]
  },
  {
   "cell_type": "code",
   "execution_count": null,
   "metadata": {
    "id": "5ZzmZmNhIKDo"
   },
   "outputs": [],
   "source": [
    "# ╰( ͡° ͜ʖ ͡° )つ──☆*:・ﾟ"
   ]
  },
  {
   "cell_type": "markdown",
   "metadata": {
    "id": "c7r5Je0uI6pj"
   },
   "source": [
    "Если вам стало интересно, можете попробовать обучить модель, аппроксимируя объём алмаза объёмом тетраэдра. Впрочем, если вы ответили на предыдущий вопрос, вы уже наверняка представляете, что получится. В любом случае мы не настаиваем =)\n",
    "\n",
    "Следующий трюк, который мы обсудим, --- это бинаризация признаков. Суть заключается в том, что мы берём некоторый признак из выборки и делаем из него несколько бинарных признаков (т.е. таких признаков, значения которых могут быть либо $0$, либо $1$). Частный случай бинаризации признаков мы уже разбирали, когда занимались кодированием категориальных признаков: тогда мы брали признак $P$, описывающий принадлежность объекта к одной из $N$ категорий ${A_1, \\ldots, A_N}$, и делали из него $N$ признаков вида $[P = A_1], [P = A_2], \\ldots [P = A_N]$.\n",
    "\n",
    "Однако это не единственный способ бинаризовать признаки. Допустим $P$ --- числовой признак, тогда мы, например, можем выбрать $k$ порогов ${t_1, \\ldots, t_k}$ и превратить признак $P$ в $k$ бинарных признаков $[P \\leq t_1], [t_1 < P \\leq t_2], \\ldots, [t_{k-1} < P \\leq t_k]$.\n",
    "\n",
    "Если же у нас есть два признака $P$ и $F$, мы можем применять булевы операции к их бинаризациям, например $[P < t_1 \\vee F > h_1], [t_2 < P \\leq t_3 \\wedge h_2 \\leq F \\leq h_3], [(P = t_4 \\vee F = h_4) \\wedge P \\leq t_5]$, и т.д.\n",
    "\n",
    "Давайте с помощью бинаризации выделим объекты, цена которых скорее всего будет высокой, и объекты, цена которых скорее всего будет низкой. Делать мы это будем на основе категориальных признаков (закодированных любым способом, однако если вы предпочитаете кодирование бинаризацией, т.е. второй способ, то при выполнении задания не забывайте, что признаки должны быть линейно независимы). Чтобы вы понимали, как именно категориальные признаки характеризуют алмазы, мы приложили вам картинку `categorical_descriptions`.\n",
    "\n",
    "![](https://lh3.google.com/u/0/d/1xzqbnwyOazKNiiJxNo_AUh7iUsTONC-0=w1920-h1090-iv1)"
   ]
  },
  {
   "cell_type": "markdown",
   "metadata": {
    "id": "ADOr1ZH6Y1OQ"
   },
   "source": [
    "**12.** Обучите линейную модель, предсказывающую цену алмазов на категориальных признаках из наших данных. Замерьте качество полученной линейной модели на тестовой выборке, после чего добавьте признаки, которые явно выделят алмазы, цена на которые скорее всего будет высокой, и алмазы, цена которых скорее всего будет низкой, и снова обучите линейную модель. Вы можете также добавить и свои признаки и использовать не только категориальные признаки (например, если вам захочется добавить признак \"у алмаза лучшая чистота И алмаз совершенно бесцветный И объём алмаза не меньше $t$\"). Удалось ли добиться прироста в качестве?"
   ]
  },
  {
   "cell_type": "code",
   "execution_count": null,
   "metadata": {
    "id": "7sxhbqDPZyfH"
   },
   "outputs": [],
   "source": [
    "# ╰( ͡° ͜ʖ ͡° )つ──☆*:・ﾟ"
   ]
  },
  {
   "cell_type": "markdown",
   "metadata": {
    "id": "AbIbDwNci6Mf"
   },
   "source": [
    "#### Как сдавать предсказания?\n",
    "\n",
    "Передайте в написанную нами функцию `make_submission` ваши предсказания. Когда функция отработает, у вас в рабочей директории появится файл `submission.csv`, который вам и нужно сдать в соревнование."
   ]
  },
  {
   "cell_type": "code",
   "execution_count": null,
   "metadata": {
    "id": "m4gv1RKjjtxA"
   },
   "outputs": [],
   "source": [
    "def make_submission(y_pred):\n",
    "  file = np.arange(1, len(y_pred) + 1)\n",
    "  file = file.reshape(-1, 1)\n",
    "  file = np.concatenate([file, y_pred.reshape(-1, 1).astype(float)], axis=1)\n",
    "  with open(\"submission.csv\", \"w\") as f:\n",
    "    f.write(\"id,price\\n\")\n",
    "    np.savetxt(f, file, delimiter=\",\", fmt=\"%d,%10.5f\")\n",
    "\n",
    "# пример вызова функции:\n",
    "make_submission(np.zeros(16182))"
   ]
  },
  {
   "cell_type": "markdown",
   "metadata": {
    "id": "4aHgP-6qfl0D"
   },
   "source": [
    "### Задание 3. Регуляризация (3.9 баллов)\n",
    "\n"
   ]
  },
  {
   "cell_type": "markdown",
   "metadata": {
    "id": "6RcCzJLjm8a6"
   },
   "source": [
    "Конечно, никто не гарантирует, что объясняемая переменная зависит от остальных характеристик именно линейно, поэтому мы можем неслабо улучшить модель, добавляя в неё нелинейные признаки на основе уже имеющихся. Один из наиболее распространённых подходов заключается в добавлении в выборку полиномиальных признаков некоторой фиксированной степени на основе уже имеющихся. Т.е., скажем, у нас есть признаки {P, F, G} и наша задача состоит в том, чтобы добавить в выборку полиномиальные признаки степени $2$ на основе имеющихся. Тогда мы добавим в выборку признаки\n",
    "\n",
    "$$\n",
    "P^2, F^2, G^2, PF, PG, FG.\n",
    "$$\n",
    "\n",
    "Аналогично для большего числа признаков и больших степеней.\n",
    "\n",
    "**1. [0,4 баллов]** Реализуйте функцию `add_polynomial_features`, принимающую массив признаков, и степень, и возвращающую полиномиальные признаки заданной степени."
   ]
  },
  {
   "cell_type": "code",
   "execution_count": null,
   "metadata": {
    "id": "_lnytPeGnEFP"
   },
   "outputs": [],
   "source": [
    "def add_polynomial_features(features, degree):\n",
    "  \"\"\"\n",
    "    features: массив признаков\n",
    "    degree:   показатель степени\n",
    "  \"\"\"\n",
    "  # ╰( ͡° ͜ʖ ͡° )つ──☆*:・ﾟ\n",
    "  raise NotImplementedError()\n",
    "\n",
    "# Пример: получаем полиномиальные признаки степени 2 на основе признаков x, y, z:\n",
    "poly_features = add_polynomial_features(data[:, [6, 7, 8]].astype(np.float64).T, 2)\n",
    "assert poly_features.shape[0] == 6 "
   ]
  },
  {
   "cell_type": "markdown",
   "metadata": {
    "id": "TqwGy6HEnX6W"
   },
   "source": [
    "Обучите линейную модель, добавив в выборку полиномиальные признаки степени $2$ от признаков carat и table. Сравните качество полученной модели с качеством модели из пункта 7 предыдущего задания."
   ]
  },
  {
   "cell_type": "code",
   "execution_count": null,
   "metadata": {
    "id": "MPI707WOn1op"
   },
   "outputs": [],
   "source": [
    "# ╰( ͡° ͜ʖ ͡° )つ──☆*:・ﾟ"
   ]
  },
  {
   "cell_type": "markdown",
   "metadata": {
    "id": "_ihqwU4rvAKw"
   },
   "source": [
    "Итак, мы узнали, что в выборку можно добавлять полиномиальные признаки от уже имеющихся числовых признаков и, как правило, это приводит к существенному приросту качества. Возникает естественный вопрос: почему бы не свести задачу построения линейной модели к подбору степени полиномиальных признаков? Ведь наверняка можно найти такую степень, при которой модель будет выдавать наилучшее возможное качество? Давайте исследуем этот вопрос."
   ]
  },
  {
   "cell_type": "markdown",
   "metadata": {
    "id": "Ug11Yg52v5WU"
   },
   "source": [
    "**2. [0,3 баллов]** В этом задании вам нужно обучить 6 линейных моделей на полиномиальных признаках степеней от 1 до 6 от уже имеющихся признаков (carat, x, y, z). Нарисуйте график зависимости качества модели на обучающей и тестовой выборке от степени полиномиальных признаков в логарифмической шкале. Прокомментируйте полученный график: ожидали ли вы такого эффекта? "
   ]
  },
  {
   "cell_type": "code",
   "execution_count": null,
   "metadata": {
    "id": "JGvdh2Wmwwh_"
   },
   "outputs": [],
   "source": [
    "# ╰( ͡° ͜ʖ ͡° )つ──☆*:・ﾟ"
   ]
  },
  {
   "cell_type": "markdown",
   "metadata": {
    "id": "PKtmVN-Dww4h"
   },
   "source": [
    "Наблюдаемый вами эффект называется переобучением: ситуация, когда модель становится слишком зависимой от обучающей выборки. Действительно, в процессе обучения модели мы стараемся минимизировать ошибку именно на обучающей выборке, и совершенно неочевидно, почему обученная модель будет обобщаться на объекты, которых она раньше не видела.\n",
    "\n",
    "Когда мы начали добавлять в выборку полиномиальные признаки большой степени, модель стала настолько сложной, что обрела способность запомнить обучающую выборку вместо того, чтобы извлекать из неё какие-то закономерности. Как следствие, когда мы подали модели на вход выборку, отличную от обучающей, мы получили колоссальную ошибку.\n",
    "\n",
    "Ситуация, когда качество модели на обучающей выборке гораздо ниже качества на тестовой выборке, является самым явным симптомом переобучения, но не единственным. Часто в ситуации переобучения можно наблюдать необычайно большие по модулю коэффициенты модели.\n",
    "\n",
    "Есть много способов борьбы с этим злом. Один из них --- регуляризация. Сейчас мы рассмотрим одну из её разновидностей --- **L2-регуляризацию**. Идея в том, чтобы подправить матрицу $X^TX$, сделав её \"получше\". Например, это можно сделать, заменив её на $(X^TX + \\lambda E)$, где $\\lambda > 0$ --- некоторый скаляр. Пожертвовав точностью на обучающей выборке, мы тем не менее получаем численно более стабильное псевдорешение $a = (X^TX + \\lambda E)^{-1}X^Ty$ и снижаем эффект переобучения. *Гиперпараметр* $\\lambda$ нужно подбирать, и каких-то универсальных способов это делать нет, но зачастую можно его подобрать таким, чтобы ошибка на тестовой выборке падала.\n",
    "\n",
    "Однако есть некоторые правила, которых стоит придерживаться при подборе коэффициента регуляризации. Обычно в такой ситуации всю выборку делят на три части: обучающую, *валидационную* и тестовую. Сначала по валидационной подбирают значение гиперпараметра, потом по обучающей строят модель, а по тестовой оценивают её итоговое качество. Кроме того, подбирать $\\lambda$ нужно по логарифметической сетке, чтобы узнать оптимальный порядок величины."
   ]
  },
  {
   "cell_type": "markdown",
   "metadata": {
    "id": "KRr312xvz-Cx"
   },
   "source": [
    "**3. [0,1 балла]** Подумайте, почему не стоит подбирать коэффициент регуляризации по обучающей выборке? По тестовой выборке?"
   ]
  },
  {
   "cell_type": "markdown",
   "metadata": {
    "id": "PjYAT3i-0GGX"
   },
   "source": [
    "**Ваше обоснование здесь**: Если подобрать коэффициент по обучающей выборке, то мы получим более частное решение. Это решение будет давать хорошие результаты на обучающей/тестовой выборке. Однако, на других данных, решение будет показывать не очень хорошие результаты."
   ]
  },
  {
   "cell_type": "markdown",
   "metadata": {
    "id": "nQlJbhvH0SBD"
   },
   "source": [
    "**4. [0,3 балла]** Рассмотрим линейную можель с полиномиальными признаками степени $4$ от признаков (carat, x, y, z). Качество такой модели на обучающей выборке уже заметно лучше, чем качество на тестовой. Попробуем исправить эту ситуацию, применив $L2$-регуляризацию. Поделите вашу обучающую выборку на две части в соотношении $8:2$. Большую часть вы вновь объявите обучающей выборкой, а меньшую --- валидационной. Подберите гиперпараметр $\\lambda$ по логарифмической сетке таким образом, чтобы линейная модель с \"подправленной\" матрицей Грама $X^TX$ выдавала лучшее качество на валидационной выборке. Обучите линейную модель с подобранным параметром $\\lambda$ на обучающей выборке и протестируйте её на тестовых данных. Сделайте вывод: помогла ли нам регуляризация?\n",
    "\n",
    "*Примечание: np.logspace вам в помощь.*"
   ]
  },
  {
   "cell_type": "code",
   "execution_count": null,
   "metadata": {
    "id": "g5rBhgI93MXd"
   },
   "outputs": [],
   "source": [
    "# ╰( ͡° ͜ʖ ͡° )つ──☆*:・ﾟ"
   ]
  },
  {
   "cell_type": "markdown",
   "metadata": {
    "id": "wFeo516Z4ckd"
   },
   "source": [
    "**5. [0,5 балла]** Повторите первое задание, но вместо 6 обычных линейных моделей обучите 6 регуляризованных линейных моделей. Для каждой модели вам нужно будет подобрать свой гиперпараметр $\\lambda$. Сравните полученный график с графиком из первого задания: для всякой ли степени мы смогли улучшить ситуацию? Как выдумаете, почему?"
   ]
  },
  {
   "cell_type": "code",
   "execution_count": null,
   "metadata": {
    "id": "fKPFiHrN4-xO"
   },
   "outputs": [],
   "source": [
    "# ╰( ͡° ͜ʖ ͡° )つ──☆*:・ﾟ"
   ]
  },
  {
   "cell_type": "markdown",
   "metadata": {
    "id": "IwzU99F75DPx"
   },
   "source": [
    "**6. [1,15 балла]** Пусть заданы $X\\in \\text{Mat}_{n \\times k}(\\mathbb{R})$, $\\lambda \\geqslant 0$, а также известно, что $\\text{rk}~X = k \\leqslant n$. Решите следующую задачу оптимизации:\n",
    "$$|Xa - y|^2 + \\lambda|a|^2\\rightarrow\\min\\limits_{a \\in \\mathbb{R}^k}.$$\n",
    "\n",
    "Заметим, что первое слагаемое --- это значение mean-square error (с точностью до домножения на некоторую константу) модели с коэффициентами $a = (a_1, \\ldots, a_k)$. Типичной задачей линейной регрессии является минимизация первого слагаемого по всем векторам $a$. Однако в данном случае кроме минимизации среднеквадратичной ошибки мы также добавляем условие, что при этом и веса модели должны быть как можно меньше. Действительно, мы уже убедились, что чем сложнее модель, тем меньше будет ошибка на обучающей выборке (а именно это ошибку мы и минимизируем в процессе обучения) и тем вероятнее модель будет иметь большие по модулю коэффициенты, а значит, и большое значение $|a|$. Добавляя второе слагаемое в рассматриваемый выше функционал, мы как бы задаём ограничение на абсолютную величину коэффициентов модели. При этом параметр $\\lambda$ явно будет указывать, насколько сильно мы будем штрафовать модель за большие коэффициенты. Заметим, что если $\\lambda = 0$, то мы получаем классическую задачу линейной регресии без регуляризации."
   ]
  },
  {
   "cell_type": "markdown",
   "metadata": {
    "id": "m0l8CtbO7uxo"
   },
   "source": [
    "Ваше решение здесь: ╰( ͡° ͜ʖ ͡° )つ──☆*:・ﾟ"
   ]
  },
  {
   "cell_type": "markdown",
   "metadata": {
    "id": "GVmoHb9PAn75"
   },
   "source": [
    "**7. [0,25 балла]** При построении линейной модели у вас, как правило, есть также и свободный член, не зависящий от признаков из выборки. Подумайте, почему регуляризовать свободный член — плохая идея?"
   ]
  },
  {
   "cell_type": "markdown",
   "metadata": {
    "id": "Pz7uZUdjAn76"
   },
   "source": [
    "Ваше обоснование здесь: ╰( ͡° ͜ʖ ͡° )つ──☆*:・ﾟ"
   ]
  },
  {
   "cell_type": "markdown",
   "metadata": {
    "id": "Gdffe8TCAn76"
   },
   "source": [
    "**8. [0,5 балла]** Пусть теперь $\\text{rk}~X < k$. Всегда ли в этом случае существует решение? Если существует, то является ли оно единственным? Ответ обоснуйте."
   ]
  },
  {
   "cell_type": "markdown",
   "metadata": {
    "id": "P1h46LL8An76"
   },
   "source": [
    "Ваше обоснование здесь: ╰( ͡° ͜ʖ ͡° )つ──☆*:・ﾟ"
   ]
  },
  {
   "cell_type": "code",
   "execution_count": null,
   "metadata": {
    "id": "kgXIcdfoFWgn"
   },
   "outputs": [],
   "source": []
  },
  {
   "cell_type": "markdown",
   "metadata": {
    "id": "m7gvthEgAn77"
   },
   "source": [
    "**9. [0,4 балла]** Покажите, что если решений бесконечно много, то среди них обязательно найдутся решения со сколь угодно большими по модулю компонентами вектора $a$."
   ]
  },
  {
   "cell_type": "markdown",
   "metadata": {
    "id": "gVPOHJuZAn77"
   },
   "source": [
    "Ваше обоснование здесь: ╰( ͡° ͜ʖ ͡° )つ──☆*:・ﾟ"
   ]
  },
  {
   "cell_type": "markdown",
   "metadata": {
    "id": "l6hnfV4vAn7-"
   },
   "source": [
    "### Добавление. QR-разложение"
   ]
  },
  {
   "cell_type": "markdown",
   "metadata": {
    "id": "Al3Mv6w8An7-"
   },
   "source": [
    "**QR-разложением** матрицы $A$ (не обязательно квадратной) мы будем называть её представление в виде $A = QR$, где $Q$ — матрица с ортонормированными столбцами, а $R$ - верхнетреугольная матрица.\n",
    "\n",
    "Смысл QR-разложения следующий. Пусть $a_1,\\ldots,a_m$ — столбцы матрицы $A$, $q_1,\\ldots,q_t$ — столбцы матрицы $Q$. Тогда $q_1,\\ldots,q_t$ — это ортонормированный базис в подпространстве, являющемся линейной оболочкой векторов $a_1,\\ldots,a_m$, а в матрице $R$ записаны коэффициенты, с помощью которых $a_i$ выражаются через $q_1,\\ldots,q_t$.\n",
    "\n",
    "Находить QR-разложение заданной матрицы можно разными способами. Мы познакомим Вас не с самым лучшим из них, но по крайней мере с наиболее простым концептуально. Заметим, что ортогональный базис линейной оболочки можно найти с помощью ортогонализации Грама-Шмидта. При этом коэффициенты из матрицы $R$ получаются в качестве побочного продукта этого процесса:\n",
    "\n",
    "```python\n",
    "for j = 1...n:\n",
    "    q_j = a_j\n",
    "    for i = 1,...,j-1:\n",
    "        r_ij = (q_i, a_j)\n",
    "        q_j = q_j - r_ij * q_i\n",
    "    r_jj = |q_j|\n",
    "    if r_jj == 0: # a_j in <a_1,...,a_j-1>\n",
    "        # What would you do in this case?..\n",
    "    q_j = q_j / r_jj\n",
    "```\n",
    "\n",
    "Для нахождения QR-разложения Вы можете использовать библиотечную функцию `scipy.linalg.qr`."
   ]
  },
  {
   "cell_type": "markdown",
   "metadata": {
    "id": "UB3uxms8An7_"
   },
   "source": [
    "Поскольку лабораторная про линейную регрессию, не так-то просто замять вопрос о том, какое же отношение QR-разложение имеет к задаче регрессии. Упомянем одно из возможных применений.\n",
    "\n",
    "Допустим, мы нашли QR-разложение матрицы $X$, а именно: $X = QR$. Тогда\n",
    "$$X^TX = (QR)^T(QR) = R^TQ^TQR = R^TR$$"
   ]
  },
  {
   "cell_type": "markdown",
   "metadata": {
    "id": "2XfyZf8zAn7_"
   },
   "source": [
    "Поскольку в задаче регрессии матрица $X$ обычно полного ранга (то есть её столбцы линейно независимы), матрица $R$ будет квадратной. Благодаря этому нашу обычную формулу для набора регрессионных коэффициентов $\\hat{a}$ можно переписать в следующем виде:\n",
    "\n",
    "$$\\hat{a} = (X^TX)^{-1}X^Ty = (R^TR)^{-1}(QR)^Ty = R^{-1}(R^T)^{-1}R^TQ^Ty = R^{-1}Q^Ty$$\n",
    "\n",
    "Как видите, формула стала проще. Более того, зачастую обращение матрицы $R$ может быть численно более устойчиво, чем обращение матрицы $X^TX$."
   ]
  }
 ],
 "metadata": {
  "colab": {
   "collapsed_sections": [],
   "name": "HSE Lab (linear regression) 21-22.ipynb",
   "provenance": []
  },
  "kernelspec": {
   "display_name": "Python 3",
   "language": "python",
   "name": "python3"
  },
  "language_info": {
   "codemirror_mode": {
    "name": "ipython",
    "version": 3
   },
   "file_extension": ".py",
   "mimetype": "text/x-python",
   "name": "python",
   "nbconvert_exporter": "python",
   "pygments_lexer": "ipython3",
   "version": "3.7.6"
  }
 },
 "nbformat": 4,
 "nbformat_minor": 1
}
